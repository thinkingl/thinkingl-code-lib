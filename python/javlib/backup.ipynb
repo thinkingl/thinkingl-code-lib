{
 "metadata": {
  "language_info": {
   "codemirror_mode": {
    "name": "ipython",
    "version": 3
   },
   "file_extension": ".py",
   "mimetype": "text/x-python",
   "name": "python",
   "nbconvert_exporter": "python",
   "pygments_lexer": "ipython3",
   "version": "3.8.3-final"
  },
  "orig_nbformat": 2,
  "kernelspec": {
   "name": "python_defaultSpec_1597391359971",
   "display_name": "Python 3.8.3 32-bit"
  }
 },
 "nbformat": 4,
 "nbformat_minor": 2,
 "cells": [
  {
   "cell_type": "code",
   "execution_count": 3,
   "metadata": {
    "tags": []
   },
   "outputs": [
    {
     "output_type": "stream",
     "name": "stdout",
     "text": "1 - shouldBackup:\t10\n2 - shouldBackup:\t11\n3 - shouldBackup:\t12\n4 - shouldBackup:\t13\n5 - shouldBackup:\t14\n6 - shouldBackup:\t15\n7 - shouldBackup:\t16\n8 - shouldBackup:\t17\n9 - shouldBackup:\t18\n10 - shouldBackup:\t19\n11 - shouldBackup:\t20\n12 - shouldBackup:\t22\n13 - shouldBackup:\t24\n14 - shouldBackup:\t26\n15 - shouldBackup:\t28\n16 - shouldBackup:\t30\n17 - shouldBackup:\t33\n18 - shouldBackup:\t36\n19 - shouldBackup:\t39\n20 - shouldBackup:\t42\n21 - shouldBackup:\t46\n22 - shouldBackup:\t50\n23 - shouldBackup:\t55\n24 - shouldBackup:\t60\n25 - shouldBackup:\t66\n26 - shouldBackup:\t72\n27 - shouldBackup:\t79\n28 - shouldBackup:\t86\n29 - shouldBackup:\t94\n30 - shouldBackup:\t103\n31 - shouldBackup:\t113\n32 - shouldBackup:\t124\n33 - shouldBackup:\t136\n34 - shouldBackup:\t149\n35 - shouldBackup:\t163\n36 - shouldBackup:\t179\n37 - shouldBackup:\t196\n38 - shouldBackup:\t215\n39 - shouldBackup:\t236\n40 - shouldBackup:\t259\n41 - shouldBackup:\t284\n42 - shouldBackup:\t312\n43 - shouldBackup:\t343\n44 - shouldBackup:\t377\n45 - shouldBackup:\t414\n46 - shouldBackup:\t455\n47 - shouldBackup:\t500\n48 - shouldBackup:\t550\n49 - shouldBackup:\t605\n50 - shouldBackup:\t665\n51 - shouldBackup:\t731\n52 - shouldBackup:\t804\n53 - shouldBackup:\t884\n54 - shouldBackup:\t972\n55 - shouldBackup:\t1069\n56 - shouldBackup:\t1175\n57 - shouldBackup:\t1292\n58 - shouldBackup:\t1421\n59 - shouldBackup:\t1563\n60 - shouldBackup:\t1719\n61 - shouldBackup:\t1890\n62 - shouldBackup:\t2079\n63 - shouldBackup:\t2286\n64 - shouldBackup:\t2514\n65 - shouldBackup:\t2765\n66 - shouldBackup:\t3041\n67 - shouldBackup:\t3345\n68 - shouldBackup:\t3679\n69 - shouldBackup:\t4046\n70 - shouldBackup:\t4450\n71 - shouldBackup:\t4895\n72 - shouldBackup:\t5384\n73 - shouldBackup:\t5922\n74 - shouldBackup:\t6514\n75 - shouldBackup:\t7165\n76 - shouldBackup:\t7881\n77 - shouldBackup:\t8669\n78 - shouldBackup:\t9535\n79 - shouldBackup:\t10488\n80 - shouldBackup:\t11536\n81 - shouldBackup:\t12689\n82 - shouldBackup:\t13957\n83 - shouldBackup:\t15352\n84 - shouldBackup:\t16887\n85 - shouldBackup:\t18575\n86 - shouldBackup:\t20432\n87 - shouldBackup:\t22475\n88 - shouldBackup:\t24722\n89 - shouldBackup:\t27194\n90 - shouldBackup:\t29913\n91 - shouldBackup:\t32904\n92 - shouldBackup:\t36194\n93 - shouldBackup:\t39813\n94 - shouldBackup:\t43794\n95 - shouldBackup:\t48173\n96 - shouldBackup:\t52990\n97 - shouldBackup:\t58289\n98 - shouldBackup:\t64117\n99 - shouldBackup:\t70528\n100 - shouldBackup:\t77580\n101 - shouldBackup:\t85338\n102 - shouldBackup:\t93871\n103 - shouldBackup:\t103258\n104 - shouldBackup:\t113583\n105 - shouldBackup:\t124941\n106 - shouldBackup:\t137435\n107 - shouldBackup:\t151178\n108 - shouldBackup:\t166295\n109 - shouldBackup:\t182924\n110 - shouldBackup:\t201216\n111 - shouldBackup:\t221337\n112 - shouldBackup:\t243470\n113 - shouldBackup:\t267817\n114 - shouldBackup:\t294598\n115 - shouldBackup:\t324057\n116 - shouldBackup:\t356462\n117 - shouldBackup:\t392108\n118 - shouldBackup:\t431318\n119 - shouldBackup:\t474449\n120 - shouldBackup:\t521893\n121 - shouldBackup:\t574082\n"
    }
   ],
   "source": [
    "\n",
    "backupIndexList = list()\n",
    "backupIndexList.append( 10 )\n",
    "\n",
    "def shouldBackup(n):\n",
    "    global backupIndexList\n",
    "    maxBackIndex = backupIndexList[-1]\n",
    "    while( n > maxBackIndex ):\n",
    "        maxBackIndex = int(maxBackIndex + maxBackIndex / 10)\n",
    "        backupIndexList.append( maxBackIndex )\n",
    "    if n in backupIndexList:\n",
    "        return True\n",
    "    else:\n",
    "        return False\n",
    "\n",
    "backupNum = 0\n",
    "for n in range(0, 600000):\n",
    "    if shouldBackup( n ):\n",
    "        backupNum += 1\n",
    "        print( str(backupNum) + \" - shouldBackup:\\t\" +str( n )  )"
   ]
  },
  {
   "cell_type": "code",
   "execution_count": null,
   "metadata": {},
   "outputs": [],
   "source": []
  }
 ]
}